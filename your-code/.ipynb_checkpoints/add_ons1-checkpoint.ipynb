{
 "cells": [
  {
   "cell_type": "code",
   "execution_count": null,
   "id": "2e33f780",
   "metadata": {},
   "outputs": [],
   "source": [
    "from PIL import Image\n",
    "def show_an_image(path):\n",
    "    # creating a object\n",
    "    im = Image.open(path)\n",
    "    # showing it\n",
    "    im.show()\n"
   ]
  }
 ],
 "metadata": {
  "kernelspec": {
   "display_name": "Python 3 (ipykernel)",
   "language": "python",
   "name": "python3"
  },
  "language_info": {
   "codemirror_mode": {
    "name": "ipython",
    "version": 3
   },
   "file_extension": ".py",
   "mimetype": "text/x-python",
   "name": "python",
   "nbconvert_exporter": "python",
   "pygments_lexer": "ipython3",
   "version": "3.9.13"
  }
 },
 "nbformat": 4,
 "nbformat_minor": 5
}
